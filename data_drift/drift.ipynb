{
 "cells": [
  {
   "cell_type": "markdown",
   "metadata": {},
   "source": [
    "# Data Drift Notebook"
   ]
  },
  {
   "cell_type": "markdown",
   "metadata": {},
   "source": [
    "Download File For ml-100k"
   ]
  },
  {
   "cell_type": "code",
   "execution_count": 16,
   "metadata": {},
   "outputs": [],
   "source": [
    "import requests\n",
    "import zipfile\n",
    "import os\n",
    "from pathlib import Path\n",
    "\n",
    "# Create data directory if it doesn't exist\n",
    "Path('data').mkdir(exist_ok=True)\n",
    "\n",
    "# Download the zip file\n",
    "url = \"https://files.grouplens.org/datasets/movielens/ml-100k.zip\"\n",
    "response = requests.get(url)\n",
    "\n",
    "# Save the zip file temporarily\n",
    "zip_path = \"data/ml-25.zip\"\n",
    "with open(zip_path, 'wb') as f:\n",
    "    f.write(response.content)\n",
    "\n",
    "# Extract the contents to the data folder\n",
    "with zipfile.ZipFile(zip_path, 'r') as zip_ref:\n",
    "    zip_ref.extractall('data')\n",
    "\n",
    "# Remove the temporary zip file\n",
    "os.remove(zip_path)"
   ]
  },
  {
   "cell_type": "code",
   "execution_count": 2,
   "metadata": {},
   "outputs": [],
   "source": [
    "import pandas as pd\n",
    "ratings_df = pd.read_csv('data/ml-100k/u.data',sep='\\t',names=['userId','movieId','rating','timestamp'])"
   ]
  },
  {
   "cell_type": "markdown",
   "metadata": {},
   "source": [
    "Can limit size to 10k to speed up"
   ]
  },
  {
   "cell_type": "code",
   "execution_count": 3,
   "metadata": {},
   "outputs": [],
   "source": [
    "ratings_df = ratings_df.iloc[:10000]"
   ]
  },
  {
   "cell_type": "markdown",
   "metadata": {},
   "source": [
    "## Introducing Drift"
   ]
  },
  {
   "cell_type": "code",
   "execution_count": 4,
   "metadata": {},
   "outputs": [
    {
     "name": "stdout",
     "output_type": "stream",
     "text": [
      "   userId  movieId  rating  timestamp\n",
      "0     196      242       3  881250949\n",
      "1     186      302       3  891717742\n",
      "2      22      377       1  878887116\n",
      "3     244       51       3  880606923\n",
      "4     166      346       1  886397596\n"
     ]
    }
   ],
   "source": [
    "# Simulate user preference drift by increasing the ratings for Action movies\n",
    "# For simplicity, let's assume movie IDs between 1 and 100 are Action movies\n",
    "action_movie_ids = list(range(1, 101))\n",
    "# Introduce drift: increase the ratings of Action movies by a fixed amount (e.g., +1)\n",
    "def introduce_user_drift(df, movie_ids, drift_amount=1):\n",
    "    # Select rows where the movie is an Action movie\n",
    "    drift_indices = df['movieId'].isin(movie_ids)\n",
    "    df.loc[drift_indices, 'rating'] = df.loc[drift_indices, 'rating'] + drift_amount\n",
    "    df['rating'] = df['rating'].clip(1, 5)  # Clip ratings to stay within the 1-5 range\n",
    "\n",
    "    return df\n",
    "\n",
    "# Apply drift to simulate user preferences shifting toward Action movies\n",
    "movie_ratings_with_drift = introduce_user_drift(ratings_df, action_movie_ids)\n",
    "\n",
    "# Check the drifted ratings\n",
    "print(movie_ratings_with_drift.head())"
   ]
  },
  {
   "cell_type": "markdown",
   "metadata": {},
   "source": [
    "## Train Model for data with/without drift"
   ]
  },
  {
   "cell_type": "code",
   "execution_count": 5,
   "metadata": {},
   "outputs": [],
   "source": [
    "import torch\n",
    "from torch.utils.data import Dataset\n",
    "class datasetReader(Dataset):\n",
    "    def __init__(self, df, dataset_name):\n",
    "        self.df = df\n",
    "        self.name = dataset_name\n",
    "        print(f\"{self.name} : {self.df.shape[0]}\")\n",
    "\n",
    "    def __len__(self):\n",
    "        return self.df.shape[0]\n",
    "\n",
    "    def __getitem__(self, idx):\n",
    "        sd = self.df.iloc[idx]\n",
    "        # Convert numpy.int64 to Python int\n",
    "        user = int(sd['userId'])\n",
    "        item = int(sd['movieId'])\n",
    "        rating = float(sd['rating'])\n",
    "        return torch.tensor(user-1).long(), torch.tensor(item-1).long(), torch.tensor(rating).float()\n"
   ]
  },
  {
   "cell_type": "code",
   "execution_count": 6,
   "metadata": {},
   "outputs": [],
   "source": [
    "def train_model(train_df,n_users,n_items,hot_reload_model_run_id=None,\n",
    "                model_embedding_factors=20, model_learning_rate=1e-3,model_hidden_dims=256, model_dropout_rate=0.2,\n",
    "                optimizer_step_size=10, optimizer_gamma=0.1,\n",
    "                training_epochs=5,\n",
    "                train_batch_size=64, shuffle_training_data=True):\n",
    "    input_params = {}\n",
    "    for k, v in locals().items():\n",
    "        if k == 'input_params':\n",
    "            continue\n",
    "        input_params[k] = v\n",
    "    import torch\n",
    "    from torch.utils.data import DataLoader\n",
    "\n",
    "    class MatrixFactorization(torch.nn.Module):\n",
    "        def __init__(self, n_users, n_items, n_factors, hidden_dim, dropout_rate):\n",
    "            super().__init__()\n",
    "            self.n_items = n_items\n",
    "            self.user_factors = torch.nn.Embedding(n_users+1, \n",
    "                                               n_factors,\n",
    "                                               sparse=False)\n",
    "            self.item_factors = torch.nn.Embedding(n_items+1, \n",
    "                                               n_factors,\n",
    "                                               sparse=False)\n",
    "        \n",
    "            self.linear = torch.nn.Linear(in_features=n_factors, out_features=hidden_dim)\n",
    "            self.linear2 = torch.nn.Linear(in_features=hidden_dim, out_features=1)\n",
    "            self.dropout = torch.nn.Dropout(p=dropout_rate)\n",
    "            self.relu = torch.nn.ReLU()\n",
    "        \n",
    "        def forward(self, user, item):\n",
    "            user_embedding = self.user_factors(user)\n",
    "            item_embedding = self.item_factors(item)\n",
    "            embeddding_vector = torch.mul(user_embedding, item_embedding)\n",
    "            x = self.relu(self.linear(embeddding_vector))\n",
    "            x = self.dropout(x)\n",
    "            rating = self.linear2(x)\n",
    "            return rating\n",
    "\n",
    "\n",
    "    if hot_reload_model_run_id is not None:\n",
    "        model_uri = f\"runs:/{hot_reload_model_run_id}/model\"\n",
    "        model = torch.load(model_uri)\n",
    "    else:\n",
    "        model = MatrixFactorization(n_users, n_items, n_factors=model_embedding_factors, hidden_dim=model_hidden_dims, dropout_rate=model_dropout_rate)\n",
    "\n",
    "    optimizer = torch.optim.SGD(model.parameters(), lr=model_learning_rate)\n",
    "    scheduler = torch.optim.lr_scheduler.StepLR(optimizer, step_size=optimizer_step_size, gamma=optimizer_gamma)\n",
    "    loss_func = torch.nn.L1Loss()\n",
    "\n",
    "    train_dataloader = DataLoader(datasetReader(train_df, 'train'), batch_size=train_batch_size, shuffle=shuffle_training_data)\n",
    "\n",
    "    for train_iter in range(training_epochs):\n",
    "        print(train_iter)\n",
    "        model.train()\n",
    "        print(\"training\")\n",
    "        t_loss = 0\n",
    "        t_count = 0\n",
    "        for row, col, rating in train_dataloader:\n",
    "            prediction = model(row, col)\n",
    "            loss = loss_func(prediction, rating.unsqueeze(1))\n",
    "            t_loss += loss\n",
    "            t_count += 1\n",
    "\n",
    "            # Backpropagate\n",
    "            loss.backward()\n",
    "\n",
    "            # Update the parameters\n",
    "            optimizer.step()\n",
    "            optimizer.zero_grad()\n",
    "\n",
    "        scheduler.step()\n",
    "\n",
    "\n",
    "    return model\n"
   ]
  },
  {
   "cell_type": "code",
   "execution_count": 7,
   "metadata": {},
   "outputs": [
    {
     "name": "stdout",
     "output_type": "stream",
     "text": [
      "train : 10000\n",
      "0\n",
      "training\n",
      "1\n",
      "training\n",
      "2\n",
      "training\n",
      "3\n",
      "training\n",
      "4\n",
      "training\n",
      "train : 10000\n",
      "0\n",
      "training\n",
      "1\n",
      "training\n",
      "2\n",
      "training\n",
      "3\n",
      "training\n",
      "4\n",
      "training\n"
     ]
    }
   ],
   "source": [
    "n_users = ratings_df.userId.max()\n",
    "n_items = ratings_df.movieId.max()\n",
    "model = train_model(ratings_df, n_users, n_items)\n",
    "model_with_drift = train_model(movie_ratings_with_drift, n_users, n_items)\n"
   ]
  },
  {
   "cell_type": "markdown",
   "metadata": {},
   "source": [
    "## Retreiving the item embedding layers and converting them to Numpy array"
   ]
  },
  {
   "cell_type": "code",
   "execution_count": 8,
   "metadata": {},
   "outputs": [],
   "source": [
    "embedding_layer = model.item_factors.weight\n",
    "embedding_layer_with_drift = model_with_drift.item_factors.weight\n",
    "\n"
   ]
  },
  {
   "cell_type": "code",
   "execution_count": 9,
   "metadata": {},
   "outputs": [],
   "source": [
    "embedding_layer_numpy = embedding_layer.detach().cpu().numpy()\n",
    "embedding_layer_with_drift_numpy = embedding_layer_with_drift.detach().cpu().numpy()"
   ]
  },
  {
   "cell_type": "code",
   "execution_count": 10,
   "metadata": {},
   "outputs": [],
   "source": [
    "df_item_factors_t1 = pd.DataFrame(embedding_layer_numpy.T, columns=[f'item_factor_{i}' for i in range(embedding_layer_numpy.shape[0])])\n",
    "df_item_factors_t2 = pd.DataFrame(embedding_layer_with_drift_numpy.T, columns=[f'item_factor_{i}' for i in range(embedding_layer_numpy.shape[0])])"
   ]
  },
  {
   "cell_type": "markdown",
   "metadata": {},
   "source": [
    "## Run Deepchecks feature drift check"
   ]
  },
  {
   "cell_type": "code",
   "execution_count": 11,
   "metadata": {},
   "outputs": [
    {
     "name": "stderr",
     "output_type": "stream",
     "text": [
      "deepchecks - WARNING - You are using deepchecks version 0.18.1, however a newer version is available. Deepchecks is frequently updated with major improvements. You should consider upgrading via the \"python -m pip install --upgrade deepchecks\" command.\n",
      "deepchecks - WARNING - It is recommended to initialize Dataset with categorical features by doing \"Dataset(df, cat_features=categorical_list)\". No categorical features were passed, therefore heuristically inferring categorical features in the data. 0 categorical features were inferred.\n",
      "deepchecks - WARNING - It is recommended to initialize Dataset with categorical features by doing \"Dataset(df, cat_features=categorical_list)\". No categorical features were passed, therefore heuristically inferring categorical features in the data. 0 categorical features were inferred.\n"
     ]
    }
   ],
   "source": [
    "from deepchecks.tabular import Dataset\n",
    "dataset_item_factors_t1 = Dataset(df_item_factors_t1, label=None)\n",
    "dataset_item_factors_t2 = Dataset(df_item_factors_t2, label=None)"
   ]
  },
  {
   "cell_type": "code",
   "execution_count": 13,
   "metadata": {},
   "outputs": [],
   "source": [
    "from deepchecks.tabular.checks import FeatureDrift\n",
    "drift_check_item = FeatureDrift(columns=[\"item_factor_2\"]).run(dataset_item_factors_t1, dataset_item_factors_t2)"
   ]
  },
  {
   "cell_type": "markdown",
   "metadata": {},
   "source": [
    "Save report as HTML"
   ]
  },
  {
   "cell_type": "code",
   "execution_count": null,
   "metadata": {},
   "outputs": [
    {
     "data": {
      "text/plain": [
       "'drift_check_item.html'"
      ]
     },
     "execution_count": 14,
     "metadata": {},
     "output_type": "execute_result"
    }
   ],
   "source": [
    "drift_check_item.save_as_html('drift_check_item.html')"
   ]
  }
 ],
 "metadata": {
  "kernelspec": {
   "display_name": "venv",
   "language": "python",
   "name": "python3"
  },
  "language_info": {
   "codemirror_mode": {
    "name": "ipython",
    "version": 3
   },
   "file_extension": ".py",
   "mimetype": "text/x-python",
   "name": "python",
   "nbconvert_exporter": "python",
   "pygments_lexer": "ipython3",
   "version": "3.10.15"
  }
 },
 "nbformat": 4,
 "nbformat_minor": 2
}
