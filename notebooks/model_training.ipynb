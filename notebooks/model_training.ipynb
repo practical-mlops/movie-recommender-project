{
 "cells": [
  {
   "cell_type": "code",
   "execution_count": 17,
   "metadata": {},
   "outputs": [],
   "source": [
    "from torch.utils.data import Dataset\n",
    "import torch\n",
    "from torch.utils.data import DataLoader"
   ]
  },
  {
   "cell_type": "code",
   "execution_count": null,
   "metadata": {},
   "outputs": [],
   "source": [
    "\n",
    "\n",
    "def get_datasets(bucket='datasets', dataset='ml-25m', split=['test', 'train', 'val']):\n",
    "    from pyarrow import fs, parquet\n",
    "    valid_splits = ['test', 'train', 'val']\n",
    "    data_map = {}\n",
    "    minio = fs.S3FileSystem(\n",
    "        endpoint_override='http://minio-service.kubeflow:9000',\n",
    "         access_key='minio',\n",
    "         secret_key='minio123',\n",
    "         scheme='http')\n",
    "\n",
    "    if type(split) is not list:\n",
    "        split = [split]\n",
    "\n",
    "    for dataset_name in valid_splits:\n",
    "        paraquet_data = minio.open_input_file(f'{bucket}/{dataset}/{dataset_name}.parquet.gzip')\n",
    "        df = parquet.read_table(paraquet_data).to_pandas()\n",
    "        data_map['n_users'] = max(data_map['n_users'], df.user_id.max())\n",
    "        data_map['n_items'] = max(data_map['n_items'], df.item_id.max())\n",
    "        if dataset_name in split:\n",
    "            data_map[dataset_name] = datasetReader(df, dataset_name=dataset_name)\n",
    "    \n",
    "    assert list(data_map.keys()) == split, f\"Mismatched or invalid splits. Received {split} but can only process {valid_splits}\"\n",
    "    return data_map\n"
   ]
  },
  {
   "cell_type": "code",
   "execution_count": null,
   "metadata": {},
   "outputs": [],
   "source": []
  },
  {
   "cell_type": "markdown",
   "metadata": {},
   "source": [
    "### Test Dataset"
   ]
  },
  {
   "cell_type": "code",
   "execution_count": null,
   "metadata": {},
   "outputs": [],
   "source": []
  },
  {
   "cell_type": "markdown",
   "metadata": {},
   "source": [
    "### Model training component"
   ]
  },
  {
   "cell_type": "code",
   "execution_count": null,
   "metadata": {},
   "outputs": [
    {
     "name": "stdout",
     "output_type": "stream",
     "text": [
      "x\n",
      "y\n",
      "z\n",
      "a\n",
      "train : 5145\n",
      "test : 686\n",
      "val : 1029\n"
     ]
    },
    {
     "name": "stderr",
     "output_type": "stream",
     "text": [
      "2024/05/13 01:48:51 INFO mlflow.types.utils: MLflow 2.9.0 introduces model signature with new data types for lists and dictionaries. For input such as Dict[str, Union[scalars, List, Dict]], we infer dictionary values types as `List -> Array` and `Dict -> Object`. \n"
     ]
    },
    {
     "name": "stdout",
     "output_type": "stream",
     "text": [
      "0\n",
      "Evaluating\n",
      "Test loss: 1.1749027967453003\n",
      "Train loss: 1.4642317295074463\n",
      "1\n",
      "Evaluating\n",
      "Test loss: 1.1438854932785034\n",
      "Train loss: 1.1712555885314941\n",
      "2\n",
      "Evaluating\n",
      "Test loss: 1.121619462966919\n",
      "Train loss: 1.141432523727417\n",
      "3\n",
      "Evaluating\n",
      "Test loss: 1.102582573890686\n",
      "Train loss: 1.1218864917755127\n",
      "4\n",
      "Evaluating\n",
      "Test loss: 1.090576410293579\n",
      "Train loss: 1.113316535949707\n",
      "5\n",
      "Evaluating\n",
      "Test loss: 1.0769343376159668\n",
      "Train loss: 1.0954406261444092\n",
      "6\n",
      "Evaluating\n",
      "Test loss: 1.0638604164123535\n",
      "Train loss: 1.0800702571868896\n",
      "7\n",
      "Evaluating\n",
      "Test loss: 1.0568610429763794\n",
      "Train loss: 1.0677101612091064\n",
      "8\n",
      "Evaluating\n",
      "Test loss: 1.0546883344650269\n",
      "Train loss: 1.057148814201355\n",
      "9\n",
      "Evaluating\n",
      "Test loss: 1.04603910446167\n",
      "Train loss: 1.046576976776123\n",
      "10\n",
      "Evaluating\n",
      "Test loss: 1.0394843816757202\n",
      "Train loss: 1.037510633468628\n",
      "11\n",
      "Evaluating\n",
      "Test loss: 1.041893482208252\n",
      "Train loss: 1.042807936668396\n",
      "12\n",
      "Evaluating\n",
      "Test loss: 1.0418674945831299\n",
      "Train loss: 1.0450609922409058\n",
      "13\n",
      "Evaluating\n",
      "Test loss: 1.039739727973938\n",
      "Train loss: 1.0393441915512085\n",
      "14\n",
      "Evaluating\n",
      "Test loss: 1.0356628894805908\n",
      "Train loss: 1.0365116596221924\n",
      "15\n",
      "Evaluating\n",
      "Test loss: 1.0370134115219116\n",
      "Train loss: 1.0421054363250732\n",
      "16\n",
      "Evaluating\n",
      "Test loss: 1.0352015495300293\n",
      "Train loss: 1.0407733917236328\n",
      "17\n",
      "Evaluating\n",
      "Test loss: 1.039232850074768\n",
      "Train loss: 1.035949945449829\n",
      "18\n",
      "Evaluating\n",
      "Test loss: 1.0326886177062988\n",
      "Train loss: 1.035658597946167\n",
      "19\n",
      "Evaluating\n",
      "Test loss: 1.0376883745193481\n",
      "Train loss: 1.0393508672714233\n",
      "20\n",
      "Evaluating\n",
      "Test loss: 1.037394642829895\n",
      "Train loss: 1.0390127897262573\n",
      "21\n",
      "Evaluating\n",
      "Test loss: 1.0354524850845337\n",
      "Train loss: 1.0415167808532715\n",
      "22\n",
      "Evaluating\n",
      "Test loss: 1.0319316387176514\n",
      "Train loss: 1.0333342552185059\n",
      "23\n",
      "Evaluating\n",
      "Test loss: 1.0403177738189697\n",
      "Train loss: 1.0419408082962036\n",
      "24\n",
      "Evaluating\n",
      "Test loss: 1.031906247138977\n",
      "Train loss: 1.0356847047805786\n",
      "25\n",
      "Evaluating\n",
      "Test loss: 1.0405378341674805\n",
      "Train loss: 1.0436102151870728\n",
      "26\n",
      "Evaluating\n",
      "Test loss: 1.0344328880310059\n",
      "Train loss: 1.0372706651687622\n",
      "27\n",
      "Evaluating\n",
      "Test loss: 1.0374913215637207\n",
      "Train loss: 1.038387417793274\n",
      "28\n",
      "Evaluating\n",
      "Test loss: 1.0334210395812988\n",
      "Train loss: 1.0312093496322632\n",
      "29\n",
      "Evaluating\n",
      "Test loss: 1.0366402864456177\n",
      "Train loss: 1.036955714225769\n"
     ]
    },
    {
     "name": "stderr",
     "output_type": "stream",
     "text": [
      "/Users/shanoop/miniforge3/envs/mlops/lib/python3.10/site-packages/_distutils_hack/__init__.py:18: UserWarning: Distutils was imported before Setuptools, but importing Setuptools also replaces the `distutils` module in `sys.modules`. This may lead to undesirable behaviors or errors. To avoid these issues, avoid using distutils directly, ensure that setuptools is installed in the traditional way (e.g. not an editable install), and/or make sure that setuptools is always imported before distutils.\n",
      "  warnings.warn(\n",
      "/Users/shanoop/miniforge3/envs/mlops/lib/python3.10/site-packages/_distutils_hack/__init__.py:33: UserWarning: Setuptools is replacing distutils.\n",
      "  warnings.warn(\"Setuptools is replacing distutils.\")\n"
     ]
    }
   ],
   "source": [
    "\n",
    "\n",
    "train_model(train_batch_size=64, test_batch_size=64, training_epochs=30, model_learning_rate=1e-2, mlflow_tags={'negative_sampling': 'True', 'testing_sample': 'tracking'})"
   ]
  },
  {
   "cell_type": "markdown",
   "metadata": {},
   "source": [
    "### Model validation"
   ]
  },
  {
   "cell_type": "code",
   "execution_count": null,
   "metadata": {},
   "outputs": [
    {
     "data": {
      "application/vnd.jupyter.widget-view+json": {
       "model_id": "9b6980ffe9ee4dbb847de0967bd8dfb9",
       "version_major": 2,
       "version_minor": 0
      },
      "text/plain": [
       "Downloading artifacts:   0%|          | 0/10 [00:00<?, ?it/s]"
      ]
     },
     "metadata": {},
     "output_type": "display_data"
    },
    {
     "name": "stderr",
     "output_type": "stream",
     "text": [
      "2024/05/13 01:50:04 INFO mlflow.store.artifact.artifact_repo: The progress bar can be disabled by setting the environment variable MLFLOW_ENABLE_ARTIFACTS_PROGRESS_BAR to false\n"
     ]
    },
    {
     "name": "stdout",
     "output_type": "stream",
     "text": [
      "x\n",
      "y\n",
      "z\n",
      "a\n",
      "train : 5145\n",
      "test : 686\n",
      "val : 1029\n",
      "precision_50: 0.7442\n",
      "recall_50: 0.8649\n",
      "rms: 0.2836\n"
     ]
    },
    {
     "name": "stderr",
     "output_type": "stream",
     "text": [
      "/Users/shanoop/miniforge3/envs/mlops/lib/python3.10/site-packages/sklearn/metrics/_regression.py:483: FutureWarning: 'squared' is deprecated in version 1.4 and will be removed in 1.6. To calculate the root mean squared error, use the function'root_mean_squared_error'.\n",
      "  warnings.warn(\n"
     ]
    }
   ],
   "source": [
    "\n",
    "\n",
    "validate_model('0b2bb12d3db94a938005dfe1651a1d9f')"
   ]
  },
  {
   "cell_type": "markdown",
   "metadata": {},
   "source": [
    "### Model quality gate"
   ]
  },
  {
   "cell_type": "code",
   "execution_count": null,
   "metadata": {},
   "outputs": [],
   "source": [
    "def model_quality_gate():\n",
    "    pass"
   ]
  },
  {
   "cell_type": "markdown",
   "metadata": {},
   "source": [
    "### Model registration"
   ]
  },
  {
   "cell_type": "code",
   "execution_count": null,
   "metadata": {},
   "outputs": [
    {
     "name": "stderr",
     "output_type": "stream",
     "text": [
      "Registered model 'recommender_production' already exists. Creating a new version of this model...\n",
      "2024/05/13 00:49:29 INFO mlflow.store.model_registry.abstract_store: Waiting up to 300 seconds for model version to finish creation. Model name: recommender_production, version 4\n",
      "Created version '4' of model 'recommender_production'.\n"
     ]
    }
   ],
   "source": [
    "\n",
    "\n",
    "\n",
    "\n",
    "promote_model('9cc6321b8dcf4e43a1fd6b339107d10e')"
   ]
  },
  {
   "cell_type": "markdown",
   "metadata": {},
   "source": [
    "## Pipeline definition"
   ]
  },
  {
   "cell_type": "code",
   "execution_count": null,
   "metadata": {},
   "outputs": [],
   "source": []
  },
  {
   "cell_type": "code",
   "execution_count": null,
   "metadata": {},
   "outputs": [],
   "source": [
    "import kfp.dsl as dsl\n",
    "client = kfp.Client() # change arguments accordingly\n",
    "@dsl.pipeline(\n",
    "  name='Model training pipeline',\n",
    "  description='A pipeline to train models on the movielens dataset for recommenders'\n",
    ")\n",
    "def training_pipeline(\n",
    "    minio_bucket:str='datasets',\n",
    "    trainig_batch_size: int = 1,\n",
    "    training_learning_rate:float = 0.001,\n",
    "    training_factors: int = 20,\n",
    "    optimizer_step_size: float= 25.0,\n",
    "    optimizer_gamma: float = 0.1):\n",
    "    check_dataset\n",
    "    train_model\n",
    "    validate_model\n",
    "    model_quality_gate\n",
    "    promote_model\n",
    "\n",
    "    download_dataset = download_op()\n",
    "    unzip_folder = unzip_op(download_dataset.output)\n",
    "    ratings_parquet_op = csv_to_parquet_op(unzip_folder.outputs['ratings_output'])\n",
    "    movies_parquet_op = csv_to_parquet_op(unzip_folder.outputs['movies_output'])\n",
    "    split_op = split_dataset_op(ratings_parquet_op.output,random_state=random_init)\n",
    "    u1 = upload_to_minio_op(movies_parquet_op.output, upload_file_name='movies.parquet.gzip', bucket=minio_bucket)\n",
    "    u2 = upload_to_minio_op(split_op.output, bucket=minio_bucket)\n",
    "    qa_component_op(bucket=minio_bucket).after(u2)\n",
    "\n",
    "# Create a pipeline run, using the client you initialized in a prior step.\n",
    "kfp.compiler.Compiler().compile(\n",
    "    pipeline_func=dataprep_pipeline,\n",
    "    package_path='dataPrep_pipeline.yaml')"
   ]
  }
 ],
 "metadata": {
  "kernelspec": {
   "display_name": "mlops",
   "language": "python",
   "name": "python3"
  },
  "language_info": {
   "codemirror_mode": {
    "name": "ipython",
    "version": 3
   },
   "file_extension": ".py",
   "mimetype": "text/x-python",
   "name": "python",
   "nbconvert_exporter": "python",
   "pygments_lexer": "ipython3",
   "version": "3.10.0"
  }
 },
 "nbformat": 4,
 "nbformat_minor": 2
}
