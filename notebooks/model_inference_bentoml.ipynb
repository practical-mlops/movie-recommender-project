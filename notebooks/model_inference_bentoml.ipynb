{
 "cells": [
  {
   "cell_type": "code",
   "execution_count": 2,
   "metadata": {},
   "outputs": [],
   "source": [
    "import bentoml\n",
    "import json\n",
    "import mlflow\n",
    "import torch\n",
    "import numpy as np\n",
    "import pandas as pd\n",
    "import os\n",
    "from mlflow import MlflowClient\n",
    "\n",
    "@bentoml.service(\n",
    "    resources={\"cpu\": \"2\"},\n",
    "    traffic={\"timeout\": 10},\n",
    ")\n",
    "class RecommenderRunable:\n",
    "    def __init__(self, registered_model_name='recommender_production', device='cpu'):\n",
    "        mlflow.set_tracking_uri(uri=\"http://192.168.1.90:8080\")\n",
    "        client = MlflowClient()\n",
    "        current_prod = client.get_model_version_by_alias(registered_model_name, \"prod\")\n",
    "        model_uri = f\"runs:/{current_prod.run_id}/model\"\n",
    "        bentoml.mlflow.import_model(\"recommender\", model_uri)\n",
    "        bento_model = bentoml.mlflow.get(f\"{registered_model_name}:latest\")\n",
    "        mlflow_model_path = bento_model.path_of(bentoml.mlflow.MLFLOW_MODEL_FOLDER)\n",
    "\n",
    "        self.model = mlflow.pytorch.load_model(mlflow_model_path)\n",
    "        self.device = device\n",
    "        self._model.to(self.device)\n",
    "        self.model.eval()\n",
    "    \n",
    "    @bentoml.api    #A \n",
    "    def predict(self, user_id: int, top_k: int=10, ranked_movies:np.ndarray=None) -> np.ndarray:\n",
    "        user_id = torch.tensor([user_id], dtype=torch.long).to(self.device)\n",
    "        all_items = torch.arange(1, self.model.n_items + 1, dtype=torch.long).to(self.device)\n",
    "\n",
    "        # Remove already ranked movies from the list of all items\n",
    "        if ranked_movies is not None:\n",
    "            ranked_movies = torch.tensor(ranked_movies, dtype=torch.long).to(self.device)\n",
    "            unrated_items = all_items[~torch.isin(all_items, ranked_movies)]\n",
    "        else:\n",
    "            unrated_items = all_items\n",
    "        \n",
    "        user_ids = user_id.repeat(len(unrated_items))\n",
    "        \n",
    "        # Predict ratings for all unrated items\n",
    "        with torch.no_grad():\n",
    "            predictions = self.model(user_ids, unrated_items).squeeze()\n",
    "        \n",
    "        # Get the item with the highest predicted rating\n",
    "        top_n_indices = torch.topk(predictions, top_k).indices\n",
    "        recommended_items = unrated_items[top_n_indices].cpu().numpy()\n",
    "        \n",
    "        return recommended_items.tolist()\n"
   ]
  },
  {
   "cell_type": "code",
   "execution_count": null,
   "metadata": {},
   "outputs": [],
   "source": []
  }
 ],
 "metadata": {
  "kernelspec": {
   "display_name": "mlops",
   "language": "python",
   "name": "python3"
  },
  "language_info": {
   "codemirror_mode": {
    "name": "ipython",
    "version": 3
   },
   "file_extension": ".py",
   "mimetype": "text/x-python",
   "name": "python",
   "nbconvert_exporter": "python",
   "pygments_lexer": "ipython3",
   "version": "3.10.0"
  }
 },
 "nbformat": 4,
 "nbformat_minor": 2
}
